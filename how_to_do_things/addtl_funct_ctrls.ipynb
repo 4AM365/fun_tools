{
 "cells": [
  {
   "cell_type": "code",
   "execution_count": null,
   "metadata": {},
   "outputs": [],
   "source": [
    "import networkx\n",
    "import pyvin\n",
    "import pyautogui\n"
   ]
  },
  {
   "cell_type": "code",
   "execution_count": 10,
   "metadata": {},
   "outputs": [
    {
     "name": "stdout",
     "output_type": "stream",
     "text": [
      "You are authorized\n",
      "True\n"
     ]
    }
   ],
   "source": [
    "secretName = 'binil'\n",
    "pw = ''\n",
    "count = 0\n",
    "maxAttempt = 3\n",
    "authorized = False\n",
    "\n",
    "while (pw!= secretName):\n",
    "    count += 1\n",
    "    if (count > maxAttempt): break\n",
    "    pw = input(f'{count}: What is the secret name?')\n",
    "else:\n",
    "    authorized = True\n",
    "\n",
    "print(\"You are authorized\" if authorized else 'Sorry, your IP is blocked')\n",
    "print(authorized)"
   ]
  },
  {
   "cell_type": "code",
   "execution_count": null,
   "metadata": {},
   "outputs": [],
   "source": []
  }
 ],
 "metadata": {
  "kernelspec": {
   "display_name": "base",
   "language": "python",
   "name": "python3"
  },
  "language_info": {
   "codemirror_mode": {
    "name": "ipython",
    "version": 3
   },
   "file_extension": ".py",
   "mimetype": "text/x-python",
   "name": "python",
   "nbconvert_exporter": "python",
   "pygments_lexer": "ipython3",
   "version": "3.9.12"
  },
  "orig_nbformat": 4,
  "vscode": {
   "interpreter": {
    "hash": "504af9dbaeab241701b42e0a4a2f2792546a36888d7345416987d6285d9bc5c8"
   }
  }
 },
 "nbformat": 4,
 "nbformat_minor": 2
}
